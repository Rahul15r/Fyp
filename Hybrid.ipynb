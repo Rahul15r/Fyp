{
 "cells": [
  {
   "cell_type": "code",
   "execution_count": 2,
   "id": "095ec46e",
   "metadata": {},
   "outputs": [],
   "source": [
    "import pandas as pd\n",
    "import numpy as np\n",
    "import xgboost as xgb\n",
    "import matplotlib.pyplot as plt\n",
    "from sklearn.model_selection import train_test_split\n",
    "import torch\n",
    "import torch.nn as nn\n",
    "from torch.utils.data import Dataset, DataLoader\n",
    "\n",
    "\n",
    "df=pd.read_csv(\"train_data.csv\")\n",
    "Y_train=df['Patv']\n",
    "df1=pd.read_csv(\"val_data.csv\")\n",
    "Y_val=df1['Patv']\n",
    "df2=pd.read_csv(\"test_data.csv\")\n",
    "Y_test=df2['Patv']\n",
    "X2_train=df.drop(['Patv'],axis=1)\n",
    "X2_val=df1.drop(['Patv'],axis=1)\n",
    "X2_test=df2.drop(['Patv'],axis=1)"
   ]
  },
  {
   "cell_type": "code",
   "execution_count": 3,
   "id": "fe7c3caf",
   "metadata": {},
   "outputs": [
    {
     "name": "stdout",
     "output_type": "stream",
     "text": [
      "Train set shape (2836512, 3, 8, 1)\n",
      "Validation set shape (945504, 3, 8, 1)\n"
     ]
    }
   ],
   "source": [
    "X2_train_series = X2_train.values.reshape((X2_train.shape[0], X2_train.shape[1], 1))\n",
    "X2_valid_series = X2_val.values.reshape((X2_val.shape[0], X2_val.shape[1], 1))\n",
    "\n",
    "subsequences = 3\n",
    "timesteps = X2_train.shape[1]//subsequences\n",
    "X2_train_series_sub = X2_train_series.reshape((X2_train_series.shape[0], subsequences, timesteps, 1))\n",
    "X2_valid_series_sub = X2_valid_series.reshape((X2_valid_series.shape[0], subsequences, timesteps, 1))\n",
    "print('Train set shape', X2_train_series_sub.shape)\n",
    "print('Validation set shape', X2_valid_series_sub.shape)"
   ]
  },
  {
   "cell_type": "code",
   "execution_count": 6,
   "id": "199630d9",
   "metadata": {},
   "outputs": [
    {
     "name": "stdout",
     "output_type": "stream",
     "text": [
      "Metal device set to: Apple M1\n",
      "WARNING:tensorflow:Layer lstm will not use cuDNN kernels since it doesn't meet the criteria. It will use a generic GPU kernel as fallback when running on GPU.\n"
     ]
    }
   ],
   "source": [
    "from tensorflow.keras.optimizers import Adam\n",
    "from tensorflow.keras.models import Sequential\n",
    "from tensorflow.keras.layers import *\n",
    "from tensorflow.keras.callbacks import ModelCheckpoint\n",
    "from tensorflow.keras.losses import MeanSquaredError\n",
    "from tensorflow.keras.metrics import RootMeanSquaredError\n",
    "from tensorflow.keras.optimizers import Adam\n",
    "\n",
    "model_cnn_lstm = Sequential()\n",
    "model_cnn_lstm.add(TimeDistributed(Conv1D(filters=64, kernel_size=1, activation='relu'), input_shape=(None, X2_train_series_sub.shape[2], X2_train_series_sub.shape[3])))\n",
    "model_cnn_lstm.add(TimeDistributed(MaxPooling1D(pool_size=2)))\n",
    "model_cnn_lstm.add(TimeDistributed(Flatten()))\n",
    "model_cnn_lstm.add(LSTM(50, activation='relu'))\n",
    "model_cnn_lstm.add(Dense(1))\n",
    "model_cnn_lstm.compile(loss='mse', optimizer='adam')"
   ]
  },
  {
   "cell_type": "code",
   "execution_count": null,
   "id": "0ce493c6",
   "metadata": {},
   "outputs": [],
   "source": [
    "cnn_lstm_history = model_cnn_lstm.fit(X2_train_series_sub, Y_train, \n",
    "                                      validation_data=(X2_valid_series_sub, Y_val), epochs=3, verbose=2)"
   ]
  },
  {
   "cell_type": "code",
   "execution_count": null,
   "id": "b76e2360",
   "metadata": {},
   "outputs": [],
   "source": [
    "cnn_lstm_train_pred = model_cnn_lstm.predict(X2_train_series_sub)\n",
    "cnn_lstm_valid_pred = model_cnn_lstm.predict(X2_valid_series_sub)\n",
    "print('Train rmse:', np.sqrt(mean_squared_error(Y_train, cnn_lstm_train_pred)))\n",
    "print('Validation rmse:', np.sqrt(mean_squared_error(Y_val, cnn_lstm_valid_pred)))"
   ]
  }
 ],
 "metadata": {
  "kernelspec": {
   "display_name": "Python 3 (ipykernel)",
   "language": "python",
   "name": "python3"
  },
  "language_info": {
   "codemirror_mode": {
    "name": "ipython",
    "version": 3
   },
   "file_extension": ".py",
   "mimetype": "text/x-python",
   "name": "python",
   "nbconvert_exporter": "python",
   "pygments_lexer": "ipython3",
   "version": "3.9.7"
  }
 },
 "nbformat": 4,
 "nbformat_minor": 5
}
