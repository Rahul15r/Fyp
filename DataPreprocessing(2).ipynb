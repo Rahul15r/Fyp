{
 "cells": [
  {
   "cell_type": "code",
   "execution_count": 9,
   "id": "32e42a85",
   "metadata": {},
   "outputs": [],
   "source": [
    "import pandas as pd\n",
    "import numpy as np\n",
    "import xgboost as xgb\n",
    "import matplotlib.pyplot as plt\n",
    "from sklearn.model_selection import train_test_split\n",
    "\n",
    "#Load the dataset\n",
    "data = pd.read_csv(\"wtbdata_245days.csv\")\n",
    "tlocdata = pd.read_csv(\"turbine_location.csv\")\n",
    "\n",
    "#Create a timestamp field\n",
    "data['date'] = [t for t in zip(data['Day'].values, data['Tmstamp'].values)]"
   ]
  },
  {
   "cell_type": "code",
   "execution_count": 10,
   "id": "31d3ce54",
   "metadata": {},
   "outputs": [],
   "source": [
    "# For the given time t, due to the faulty performance of some thermometers we are assuming some error will happen\n",
    "# while calculating External Temperatures and hence those values which fall outside the defined range will be \n",
    "# assigned a median value\n",
    "f = 'Etmp'\n",
    "\n",
    "# calulate the mean/std/median of the external temp for each date\n",
    "tmp_data = data[['date','TurbID','Tmstamp','Day',f]]\n",
    "mu = tmp_data.groupby('date')[f].mean().reset_index().rename({f:'mean'}, axis=1)\n",
    "std = tmp_data.groupby('date')[f].std().reset_index().rename({f:'std'}, axis=1)\n",
    "median = tmp_data.groupby('date')[f].median().reset_index().rename({f:'median'}, axis=1)\n",
    "\n",
    "# Adding the mean,median and standard deviation for the external temperature of all the dates to the dataset\n",
    "f_limit_df = pd.merge(mu, std, how='left', left_on='date', right_on='date')\n",
    "f_limit_df = pd.merge(f_limit_df, median, how='left', left_on='date', right_on='date')\n",
    "\n",
    "# calulate the range \n",
    "f_limit_df['bottom_limit'] = f_limit_df['mean'] - 3*f_limit_df['std']\n",
    "f_limit_df['upper_limit'] = f_limit_df['mean'] + 3*f_limit_df['std']\n",
    "\n",
    "# Add those within the range to the dataset\n",
    "data = pd.merge(data, f_limit_df[['date','bottom_limit','upper_limit', 'median']], how='left', left_on='date', right_on='date')\n",
    "data[f'abnormal_{f}'] = (data[f] < data['bottom_limit']) | (data[f] > data['upper_limit'])\n",
    "\n",
    "# Delete the columns which were created to perform the above function after assigning median values to the \n",
    "# temperature values outside the range\n",
    "data.loc[data[f'abnormal_{f}'], f] = 0\n",
    "data[f] = data[f'abnormal_{f}']*data['median'] + data[f]\n",
    "data = data.drop(['bottom_limit','upper_limit','median','date',f'abnormal_{f}'], axis=1)"
   ]
  },
  {
   "cell_type": "code",
   "execution_count": 11,
   "id": "286bb2ad",
   "metadata": {},
   "outputs": [],
   "source": [
    "# # We define the range for abnormal values of Nacelle Directions\n",
    "# data['abnormal_Ndir'] = (data['Ndir'] < -720) | (data['Ndir'] > 720)\n",
    "# interp_feat = 'Ndir'\n",
    "# data.loc[data[f'abnormal_{interp_feat}'], interp_feat] = np.nan\n",
    "# # Interpolate for each turbine\n",
    "# ab_turbids = data[data[f'abnormal_{interp_feat}']]['TurbID'].unique()\n",
    "# new_data = []\n",
    "# for turbid, a_data in data.groupby('TurbID'):\n",
    "#     if turbid not in ab_turbids:\n",
    "#         new_data.append(a_data) \n",
    "#     else:\n",
    "#         # Interpolate first, then  back/forward fill to handle with the missing value on the first or bottom row\n",
    "#         a_data[interp_feat] = a_data[interp_feat].interpolate()\n",
    "#         a_data[interp_feat] = a_data[interp_feat].fillna(method='bfill')   \n",
    "#         a_data[interp_feat] = a_data[interp_feat].fillna(method='ffill') \n",
    "#         new_data.append(a_data)\n",
    "# data = pd.concat(new_data, axis=0) \n",
    "# data = data.drop('abnormal_Ndir', axis=1)\n",
    "# del new_data\n",
    "# print(data.size)"
   ]
  },
  {
   "cell_type": "code",
   "execution_count": 12,
   "id": "df431da4",
   "metadata": {},
   "outputs": [],
   "source": [
    "nan_rows = data.isnull().any(axis=1)\n",
    "\n",
    "# We first define the abnormal values by defining the abnormal conditions\n",
    "invalid_cond = (data['Patv'] < 0) | \\\n",
    "                   ((data['Patv'] == 0) & (data['Wspd'] > 2.5)) | \\\n",
    "                   ((data['Pab1'] > 89) | (data['Pab2'] > 89) | (data['Pab3'] > 89)) | \\\n",
    "                   ((data['Wdir'] < -180) | (data['Wdir'] > 180) | (data['Ndir'] < -720) |\\\n",
    "                    (data['Ndir'] > 720))\n",
    "\n",
    "# Except the turbid, day and tmstmp values of the invalid rows make everything else null\n",
    "req_cols = set(data.columns) - {'TurbID', 'Day', 'Tmstamp'}\n",
    "data.loc[invalid_cond, list(req_cols)] = np.nan\n",
    "\n",
    "# Defining the abnormal values for power\n",
    "data.loc[(data['Prtv'] < 0) & (data['Patv'] > 0), 'Prtv'] = np.nan\n",
    "data.loc[(data['Prtv'] < 0) & (data['Patv'] <= 0), 'Prtv'] = 0\n",
    "data.loc[data['Patv'] < 0, 'Patv'] = 0\n",
    "\n",
    "# Using the max of the 3 pitch blade angles instead of the individual blades\n",
    "data['Pab_max'] = data[['Pab1', 'Pab2', 'Pab3']].max(axis=1)\n",
    "data = data.drop(columns=['Pab1', 'Pab2', 'Pab3'])\n",
    "\n",
    "# Filling in the null values\n",
    "data = data.groupby(data.TurbID.values).ffill().bfill()\n",
    "\n",
    "# Convert datetime columns to numerical type\n",
    "data['Tmstamp'] = pd.to_datetime(data['Tmstamp'])\n",
    "data['Tmstamp'] = pd.to_numeric(data['Tmstamp'])"
   ]
  },
  {
   "cell_type": "code",
   "execution_count": 13,
   "id": "efb56057",
   "metadata": {},
   "outputs": [
    {
     "name": "stdout",
     "output_type": "stream",
     "text": [
      "[09:48:35] WARNING: C:/buildkite-agent/builds/buildkite-windows-cpu-autoscaling-group-i-0fc7796c793e6356f-1/xgboost/xgboost-ci-windows/src/learner.cc:767: \n",
      "Parameters: { \"silent\" } are not used.\n",
      "\n"
     ]
    },
    {
     "data": {
      "image/png": "[encoded data removed]",
      "text/plain": [
       "<Figure size 432x288 with 1 Axes>"
      ]
     },
     "metadata": {
      "needs_background": "light"
     },
     "output_type": "display_data"
    }
   ],
   "source": [
    "# Defining the XGBoost model parameters\n",
    "params = {\n",
    "    \"objective\": \"reg:squarederror\",\n",
    "    \"eval_metric\": \"auc\",\n",
    "    \"max_depth\": 4,\n",
    "    \"learning_rate\": 0.1,\n",
    "    \"silent\": 1\n",
    "}\n",
    "\n",
    "# Training the XGBoost model\n",
    "dtrain = xgb.DMatrix(data.drop([\"Patv\"], axis=1), label=data[\"Patv\"])\n",
    "model = xgb.train(params, dtrain, num_boost_round=100)\n",
    "\n",
    "# Calculate feature importance\n",
    "importance = model.get_score(importance_type=\"gain\")\n",
    "importance = sorted(importance.items(), key=lambda x: x[1], reverse=True)\n",
    "\n",
    "# Plotting the graph to show the importance of the various features in the dataset\n",
    "plt.bar(range(len(importance)), [val[1] for val in importance], align=\"center\")\n",
    "plt.xticks(range(len(importance)), [val[0] for val in importance])\n",
    "plt.xticks(rotation=90)\n",
    "plt.show()"
   ]
  },
  {
   "cell_type": "code",
   "execution_count": 14,
   "id": "5418605f",
   "metadata": {},
   "outputs": [
    {
     "name": "stdout",
     "output_type": "stream",
     "text": [
      "         TurbID  Day              Tmstamp  Wspd  Wdir   Etmp   Itmp    Ndir  \\\n",
      "0             1    1  1677456000000000000  6.17 -3.99  30.73  41.80   25.92   \n",
      "1             1    1  1677456600000000000  6.17 -3.99  30.73  41.80   25.92   \n",
      "2             1    1  1677457200000000000  6.27 -2.18  30.60  41.63   20.91   \n",
      "3             1    1  1677457800000000000  6.42 -0.73  30.52  41.52   20.91   \n",
      "4             1    1  1677458400000000000  6.25  0.89  30.49  41.38   20.91   \n",
      "...         ...  ...                  ...   ...   ...    ...    ...     ...   \n",
      "4727515     134  245  1677539400000000000  7.79  2.80  -0.07   3.95  216.51   \n",
      "4727516     134  245  1677540000000000000  8.06  4.39   0.23   3.94  216.51   \n",
      "4727517     134  245  1677540600000000000  8.08  2.28  -0.16   4.15  216.51   \n",
      "4727518     134  245  1677541200000000000  8.46  0.80  -0.14   4.32  216.51   \n",
      "4727519     134  245  1677541800000000000  8.68  0.52  -0.06   4.39  216.51   \n",
      "\n",
      "          Prtv     Patv  Pab_max      hour  minute  \n",
      "0         0.01   494.66     1.00  0.000000     1.0  \n",
      "1         0.01   494.66     1.00  0.000000     0.5  \n",
      "2         0.01   509.76     1.00  0.000000    -0.5  \n",
      "3         0.01   542.53     1.00  0.000000    -1.0  \n",
      "4         0.01   509.36     1.00  0.000000    -0.5  \n",
      "...        ...      ...      ...       ...     ...  \n",
      "4727515  33.11   601.44     6.03 -0.258819     0.5  \n",
      "4727516  33.11   673.79     5.81 -0.258819    -0.5  \n",
      "4727517  33.11   999.36     0.68 -0.258819    -1.0  \n",
      "4727518  33.11  1100.89     0.02 -0.258819    -0.5  \n",
      "4727519  33.11  1181.49     0.01 -0.258819     0.5  \n",
      "\n",
      "[4727520 rows x 13 columns]\n"
     ]
    }
   ],
   "source": [
    "# Normalizing hours and minutes of a time series dataset\n",
    "temp = pd.to_datetime(data['Tmstamp'])\n",
    "hours = temp.dt.hour\n",
    "minutes = temp.dt.minute\n",
    "\n",
    "normalized_hours = np.sin(2*np.pi*hours/24)\n",
    "normalized_minutes = np.cos(2*np.pi*minutes/60)\n",
    "\n",
    "# Adding the normalized values to the dataset\n",
    "data['hour'] = normalized_hours\n",
    "data['minute'] = normalized_minutes\n",
    "\n",
    "print(data)"
   ]
  },
  {
   "cell_type": "code",
   "execution_count": 15,
   "id": "f64caa2c",
   "metadata": {},
   "outputs": [
    {
     "name": "stdout",
     "output_type": "stream",
     "text": [
      "                     TurbID  Day  Wspd  Wdir   Etmp   Itmp    Ndir   Prtv  \\\n",
      "Tmstamp                                                                     \n",
      "2023-02-27 00:00:00       1    1  6.17 -3.99  30.73  41.80   25.92   0.01   \n",
      "2023-02-27 00:10:00       1    1  6.17 -3.99  30.73  41.80   25.92   0.01   \n",
      "2023-02-27 00:20:00       1    1  6.27 -2.18  30.60  41.63   20.91   0.01   \n",
      "2023-02-27 00:30:00       1    1  6.42 -0.73  30.52  41.52   20.91   0.01   \n",
      "2023-02-27 00:40:00       1    1  6.25  0.89  30.49  41.38   20.91   0.01   \n",
      "...                     ...  ...   ...   ...    ...    ...     ...    ...   \n",
      "2023-02-27 23:10:00     134  245  7.79  2.80  -0.07   3.95  216.51  33.11   \n",
      "2023-02-27 23:20:00     134  245  8.06  4.39   0.23   3.94  216.51  33.11   \n",
      "2023-02-27 23:30:00     134  245  8.08  2.28  -0.16   4.15  216.51  33.11   \n",
      "2023-02-27 23:40:00     134  245  8.46  0.80  -0.14   4.32  216.51  33.11   \n",
      "2023-02-27 23:50:00     134  245  8.68  0.52  -0.06   4.39  216.51  33.11   \n",
      "\n",
      "                        Patv  Pab_max  ...  Rolling_Std_Wdir  \\\n",
      "Tmstamp                                ...                     \n",
      "2023-02-27 00:00:00   494.66     1.00  ...          0.000000   \n",
      "2023-02-27 00:10:00   494.66     1.00  ...          0.000000   \n",
      "2023-02-27 00:20:00   509.76     1.00  ...          1.045004   \n",
      "2023-02-27 00:30:00   542.53     1.00  ...          1.578763   \n",
      "2023-02-27 00:40:00   509.36     1.00  ...          2.116459   \n",
      "...                      ...      ...  ...               ...   \n",
      "2023-02-27 23:10:00   601.44     6.03  ...          2.221853   \n",
      "2023-02-27 23:20:00   673.79     5.81  ...          1.060057   \n",
      "2023-02-27 23:30:00   999.36     0.68  ...          1.404589   \n",
      "2023-02-27 23:40:00  1100.89     0.02  ...          1.690666   \n",
      "2023-02-27 23:50:00  1181.49     0.01  ...          1.576077   \n",
      "\n",
      "                     Rolling_Var_Wdir  Rolling_Mean_Etmp  Rolling_Median_Etmp  \\\n",
      "Tmstamp                                                                         \n",
      "2023-02-27 00:00:00          0.000000          30.730000               30.730   \n",
      "2023-02-27 00:10:00          0.000000          30.730000               30.730   \n",
      "2023-02-27 00:20:00          1.092033          30.686667               30.730   \n",
      "2023-02-27 00:30:00          2.492492          30.645000               30.665   \n",
      "2023-02-27 00:40:00          4.479400          30.614000               30.600   \n",
      "...                               ...                ...                  ...   \n",
      "2023-02-27 23:10:00          4.936630          -0.394000               -0.450   \n",
      "2023-02-27 23:20:00          1.123720          -0.296000               -0.450   \n",
      "2023-02-27 23:30:00          1.972870          -0.238000               -0.160   \n",
      "2023-02-27 23:40:00          2.858350          -0.146000               -0.140   \n",
      "2023-02-27 23:50:00          2.484020          -0.040000               -0.070   \n",
      "\n",
      "                     Rolling_Std_Etmp  Rolling_Var_Etmp  Rolling_Mean_Itmp  \\\n",
      "Tmstamp                                                                      \n",
      "2023-02-27 00:00:00          0.000000          0.000000          41.800000   \n",
      "2023-02-27 00:10:00          0.000000          0.000000          41.800000   \n",
      "2023-02-27 00:20:00          0.075056          0.005633          41.743333   \n",
      "2023-02-27 00:30:00          0.103441          0.010700          41.687500   \n",
      "2023-02-27 00:40:00          0.113270          0.012830          41.626000   \n",
      "...                               ...               ...                ...   \n",
      "2023-02-27 23:10:00          0.227442          0.051730           3.566000   \n",
      "2023-02-27 23:20:00          0.364115          0.132580           3.662000   \n",
      "2023-02-27 23:30:00          0.356469          0.127070           3.804000   \n",
      "2023-02-27 23:40:00          0.293479          0.086130           3.988000   \n",
      "2023-02-27 23:50:00          0.157003          0.024650           4.150000   \n",
      "\n",
      "                     Rolling_Median_Itmp  Rolling_Std_Itmp  Rolling_Var_Itmp  \n",
      "Tmstamp                                                                       \n",
      "2023-02-27 00:00:00               41.800          0.000000          0.000000  \n",
      "2023-02-27 00:10:00               41.800          0.000000          0.000000  \n",
      "2023-02-27 00:20:00               41.800          0.098150          0.009633  \n",
      "2023-02-27 00:30:00               41.715          0.137447          0.018892  \n",
      "2023-02-27 00:40:00               41.630          0.181879          0.033080  \n",
      "...                                  ...               ...               ...  \n",
      "2023-02-27 23:10:00                3.460          0.224900          0.050580  \n",
      "2023-02-27 23:20:00                3.580          0.266871          0.071220  \n",
      "2023-02-27 23:30:00                3.940          0.305336          0.093230  \n",
      "2023-02-27 23:40:00                3.950          0.276893          0.076670  \n",
      "2023-02-27 23:50:00                4.150          0.206519          0.042650  \n",
      "\n",
      "[4727520 rows x 31 columns]\n"
     ]
    }
   ],
   "source": [
    "# Calculating the wind direction angle and normalizing it \n",
    "data['w_angle'] = data['Ndir'] + data['Wdir']\n",
    "data['w_angle_sin'] = np.sin(data['w_angle'] * np.pi/180)\n",
    "data['w_angle_cos'] = np.cos(data['w_angle'] * np.pi/180)\n",
    "\n",
    "# Convert the date column to datetime format\n",
    "data['Tmstamp'] = pd.to_datetime(data['Tmstamp'])\n",
    "\n",
    "# Set the date column as the index\n",
    "data.set_index('Tmstamp', inplace=True)\n",
    "\n",
    "#Finding the rolling mean, median, std and variance for the below features\n",
    "for fea in ['Wspd', 'Wdir', 'Etmp', 'Itmp']:\n",
    "    data['Rolling_Mean_'+fea] = data[fea].rolling(window=5,min_periods=1).mean()\n",
    "    data['Rolling_Median_'+fea] = data[fea].rolling(window=5,min_periods=1).median()\n",
    "    data['Rolling_Std_'+fea] = data[fea].rolling(window=5,min_periods=1).std()\n",
    "    data['Rolling_Var_'+fea] = data[fea].rolling(window=5,min_periods=1).var()\n",
    "\n",
    "data = data.groupby(data.TurbID.values).ffill().bfill()\n",
    "print(data)"
   ]
  },
  {
   "cell_type": "code",
   "execution_count": 17,
   "id": "01cbeba1",
   "metadata": {},
   "outputs": [
    {
     "name": "stdout",
     "output_type": "stream",
     "text": [
      "Feature Set :  Index(['TurbID', 'Day', 'Wspd', 'Wdir', 'Etmp', 'Itmp', 'Ndir', 'Prtv', 'Patv',\n",
      "       'Pab_max', 'hour', 'minute', 'w_angle', 'w_angle_sin', 'w_angle_cos',\n",
      "       'Rolling_Mean_Wspd', 'Rolling_Median_Wspd', 'Rolling_Std_Wspd',\n",
      "       'Rolling_Var_Wspd', 'Rolling_Mean_Wdir', 'Rolling_Median_Wdir',\n",
      "       'Rolling_Std_Wdir', 'Rolling_Var_Wdir', 'Rolling_Mean_Etmp',\n",
      "       'Rolling_Median_Etmp', 'Rolling_Std_Etmp', 'Rolling_Var_Etmp',\n",
      "       'Rolling_Mean_Itmp', 'Rolling_Median_Itmp', 'Rolling_Std_Itmp',\n",
      "       'Rolling_Var_Itmp'],\n",
      "      dtype='object')\n"
     ]
    }
   ],
   "source": [
    "print(\"Feature Set : \",data.columns)"
   ]
  },
  {
   "cell_type": "code",
   "execution_count": null,
   "id": "04204231",
   "metadata": {},
   "outputs": [],
   "source": [
    "sudhaksmanian@gmail.com"
   ]
  }
 ],
 "metadata": {
  "kernelspec": {
   "display_name": "Python 3 (ipykernel)",
   "language": "python",
   "name": "python3"
  },
  "language_info": {
   "codemirror_mode": {
    "name": "ipython",
    "version": 3
   },
   "file_extension": ".py",
   "mimetype": "text/x-python",
   "name": "python",
   "nbconvert_exporter": "python",
   "pygments_lexer": "ipython3",
   "version": "3.9.7"
  }
 },
 "nbformat": 4,
 "nbformat_minor": 5
}
