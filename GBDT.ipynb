{
 "cells": [
  {
   "cell_type": "code",
   "execution_count": 1,
   "id": "97d7b637",
   "metadata": {},
   "outputs": [],
   "source": [
    "import numpy as np\n",
    "import pandas as pd\n",
    "import xgboost as xgb\n",
    "from sklearn.ensemble import GradientBoostingRegressor\n",
    "from sklearn.metrics import mean_absolute_error,mean_squared_error\n",
    "\n",
    "# Load the dataset\n",
    "train_df = pd.read_csv('train_data.csv')\n",
    "X_train = train_df.drop('Patv',axis = 1)\n",
    "y_train = train_df['Patv']"
   ]
  },
  {
   "cell_type": "code",
   "execution_count": 2,
   "id": "70ed4898",
   "metadata": {},
   "outputs": [
    {
     "name": "stdout",
     "output_type": "stream",
     "text": [
      "0          494.66\n",
      "1          494.66\n",
      "2          509.76\n",
      "3          542.53\n",
      "4          509.36\n",
      "            ...  \n",
      "2836507      2.89\n",
      "2836508      2.89\n",
      "2836509      2.89\n",
      "2836510    104.11\n",
      "2836511    219.14\n",
      "Name: Patv, Length: 2836512, dtype: float64 0           55.13\n",
      "1           55.13\n",
      "2           55.13\n",
      "3           55.13\n",
      "4           55.13\n",
      "           ...   \n",
      "945499     601.44\n",
      "945500     673.79\n",
      "945501     999.36\n",
      "945502    1100.89\n",
      "945503    1181.49\n",
      "Name: Patv, Length: 945504, dtype: float64\n"
     ]
    }
   ],
   "source": [
    "# Load the dataset\n",
    "test_df = pd.read_csv('test_data.csv')\n",
    "X_test = test_df.drop('Patv',axis = 1)\n",
    "y_test = test_df['Patv']\n",
    "\n",
    "print(y_train,y_test)"
   ]
  },
  {
   "cell_type": "code",
   "execution_count": 3,
   "id": "0f36ca29",
   "metadata": {},
   "outputs": [],
   "source": [
    "# gb = GradientBoostingRegressor()\n",
    "# gb.fit(X_train, y_train)\n",
    "\n",
    "# # Evaluate the model\n",
    "# y_pred = gb.predict(X_test)\n",
    "# mae = mean_absolute_error(y_test, y_pred)\n",
    "# print(\"Mean Absolute Error:\", mae)\n",
    "\n",
    "# mse = mean_squared_error(y_test, y_pred)\n",
    "# print('Mean squared error:', mse)"
   ]
  },
  {
   "cell_type": "code",
   "execution_count": 4,
   "id": "762fe34d",
   "metadata": {},
   "outputs": [],
   "source": [
    "val_df = pd.read_csv('val_data.csv')\n",
    "X_val = val_df.drop('Patv',axis = 1)\n",
    "y_val = val_df['Patv']"
   ]
  },
  {
   "cell_type": "code",
   "execution_count": 6,
   "id": "a5446ef3",
   "metadata": {},
   "outputs": [
    {
     "name": "stdout",
     "output_type": "stream",
     "text": [
      "[  54.214195   54.214195   54.214195 ... 1031.6239   1053.9471\n",
      " 1098.8599  ]\n"
     ]
    }
   ],
   "source": [
    "params = {\n",
    "    'objective': 'reg:squarederror',\n",
    "    'eta': 0.3,\n",
    "    'max_depth': 6,\n",
    "    'subsample': 0.8,\n",
    "    'colsample_bytree': 0.8,\n",
    "    'gamma': 0,\n",
    "    'lambda': 1,\n",
    "    'alpha': 0\n",
    "}\n",
    "\n",
    "dtrain = xgb.DMatrix(X_train, label=y_train)\n",
    "\n",
    "# Train the model with the initial parameters\n",
    "model = xgb.train(params, dtrain)\n",
    "\n",
    "# Make predictions on test data\n",
    "dtest = xgb.DMatrix(X_test)\n",
    "y_pred = model.predict(dtest)\n",
    "\n",
    "print(y_pred)"
   ]
  },
  {
   "cell_type": "code",
   "execution_count": 7,
   "id": "3252055e",
   "metadata": {},
   "outputs": [],
   "source": [
    "# xgb_model = xgb.XGBRegressor()\n",
    "# xgb_model.fit(X_train, y_train)"
   ]
  },
  {
   "cell_type": "code",
   "execution_count": 9,
   "id": "73a3476b",
   "metadata": {},
   "outputs": [
    {
     "name": "stdout",
     "output_type": "stream",
     "text": [
      "Validation set MSE: 8337.476129446997\n",
      "Validation set MAE: 48.77017512939033\n"
     ]
    }
   ],
   "source": [
    "dval = xgb.DMatrix(X_val)\n",
    "\n",
    "y_val_pred = model.predict(dval)\n",
    "\n",
    "mse_val = mean_squared_error(y_val, y_val_pred)\n",
    "print(\"Validation set MSE:\", mse_val)\n",
    "\n",
    "mae = mean_absolute_error(y_val, y_val_pred)\n",
    "print(\"Validation set MAE:\", mae)"
   ]
  },
  {
   "cell_type": "code",
   "execution_count": 10,
   "id": "e0a692a8",
   "metadata": {},
   "outputs": [
    {
     "name": "stdout",
     "output_type": "stream",
     "text": [
      "Validation set MSE: 10219.71515995173\n",
      "Validation set MAE: 59.32904637989365\n"
     ]
    }
   ],
   "source": [
    "mse_test = mean_squared_error(y_test, y_pred)\n",
    "print(\"Validation set MSE:\", mse_test)\n",
    "\n",
    "mae_test = mean_absolute_error(y_test, y_pred)\n",
    "print(\"Validation set MAE:\", mae_test)"
   ]
  },
  {
   "cell_type": "code",
   "execution_count": null,
   "id": "e52d3136",
   "metadata": {},
   "outputs": [],
   "source": []
  },
  {
   "cell_type": "code",
   "execution_count": 11,
   "id": "3d66843c",
   "metadata": {},
   "outputs": [],
   "source": [
    "# from sklearn.model_selection import GridSearchCV\n",
    "# param_grid = {\n",
    "#     'n_estimators': [50, 100, 200],\n",
    "#     'max_depth': [3, 5, 7],\n",
    "#     'learning_rate': 0.05, 0.1, 0.2],\n",
    "#     'subsample': [0.6, 0.8, 1.0],\n",
    "#     'colsample_bytree': [0.6, 0.8, 1.0],\n",
    "#     'reg_alpha': [0, 0.1, 1],\n",
    "#     'reg_lambda': [0.1, 1, 10]\n",
    "# }\n",
    "# # Instantiate the grid search object with 5-fold cross-validation\n",
    "# grid_search = GridSearchCV(estimator=xgb_model, param_grid=param_grid, cv=5, n_jobs=-1)\n",
    "\n",
    "# # Fit the grid search object to the training set\n",
    "# grid_search.fit(X_train, y_train)\n",
    "\n",
    "# # Print the best hyperparameters found by the grid search\n",
    "# print(grid_search.best_params_)\n",
    "\n",
    "# # Evaluate the best model on the test set\n",
    "# best_model = grid_search.best_estimator_\n",
    "# y_test_pred = best_model.predict(X_test)\n",
    "# mse_test = mean_squared_error(y_test, y_test_pred)\n",
    "# print(\"Test set MSE:\", mse_test)\n",
    "# mae_test = mean_absolute_error(y_test, y_test_pred)\n",
    "# print(\"Test set MAE:\", mae_test)"
   ]
  },
  {
   "cell_type": "code",
   "execution_count": null,
   "id": "3ce7a9cb",
   "metadata": {},
   "outputs": [],
   "source": []
  }
 ],
 "metadata": {
  "kernelspec": {
   "display_name": "Python 3 (ipykernel)",
   "language": "python",
   "name": "python3"
  },
  "language_info": {
   "codemirror_mode": {
    "name": "ipython",
    "version": 3
   },
   "file_extension": ".py",
   "mimetype": "text/x-python",
   "name": "python",
   "nbconvert_exporter": "python",
   "pygments_lexer": "ipython3",
   "version": "3.9.7"
  }
 },
 "nbformat": 4,
 "nbformat_minor": 5
}
